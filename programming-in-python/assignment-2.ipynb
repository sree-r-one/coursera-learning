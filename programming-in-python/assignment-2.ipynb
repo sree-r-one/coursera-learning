{
 "cells": [
  {
   "cell_type": "code",
   "execution_count": 1,
   "metadata": {},
   "outputs": [],
   "source": [
    "menu = {\n",
    "    1: {\"name\": 'espresso',\n",
    "        \"price\": 1.99},\n",
    "    2: {\"name\": 'coffee', \n",
    "        \"price\": 2.50},\n",
    "    3: {\"name\": 'cake', \n",
    "        \"price\": 2.79},\n",
    "    4: {\"name\": 'soup', \n",
    "        \"price\": 4.50},\n",
    "    5: {\"name\": 'sandwich',\n",
    "        \"price\": 4.99}\n",
    "}"
   ]
  },
  {
   "cell_type": "code",
   "execution_count": 5,
   "metadata": {},
   "outputs": [],
   "source": [
    "def calculate_subtotal(order):\n",
    "    \"\"\"Calculates the subtotal of an order\n",
    "\n",
    "    [IMPLEMENT ME]\n",
    "        1. Add up the prices of all the items in the order and return the sum\n",
    "\n",
    "    Args:\n",
    "        order: list of dicts that contain an item name and price\n",
    "\n",
    "    Returns:\n",
    "        float = The sum of the prices of the items in the order\n",
    "    \"\"\"\n",
    "    print(\"Calculating bill subtotal...\")\n",
    "    ### WRITE SOLUTION HERE\n",
    "\n",
    "    prices = [item['price'] for item in order]\n",
    "    sub_total = sum(float(x) for x in prices)\n",
    "    return sub_total\n",
    "\n"
   ]
  },
  {
   "cell_type": "code",
   "execution_count": 7,
   "metadata": {},
   "outputs": [],
   "source": [
    "def calculate_tax(subtotal):\n",
    "    \"\"\"Calculates the tax of an order\n",
    "\n",
    "    [IMPLEMENT ME]\n",
    "        1. Multiply the subtotal by 15% and return the product rounded to two decimals.\n",
    "\n",
    "    Args:\n",
    "        subtotal: the price to get the tax of\n",
    "\n",
    "    Returns:\n",
    "        float - The tax required of a given subtotal, which is 15% rounded to two decimals.\n",
    "    \"\"\"\n",
    "    print(\"Calculating tax from subtotal...\")\n",
    "    ### WRITE SOLUTION HERE\n",
    "    tax = round(subtotal * .15,2)\n",
    "    return tax\n",
    "\n",
    "\n",
    "\n"
   ]
  },
  {
   "cell_type": "code",
   "execution_count": 8,
   "metadata": {},
   "outputs": [
    {
     "name": "stdout",
     "output_type": "stream",
     "text": [
      "Calculating bill subtotal...\n"
     ]
    },
    {
     "data": {
      "text/plain": [
       "4.49"
      ]
     },
     "execution_count": 8,
     "metadata": {},
     "output_type": "execute_result"
    }
   ],
   "source": [
    "calculate_subtotal(\n",
    "    [{\"name\": \"espresso\", \"price\": 1.99}, {\"name\": \"coffee\", \"price\": 2.50}]\n",
    ")"
   ]
  },
  {
   "cell_type": "code",
   "execution_count": 9,
   "metadata": {},
   "outputs": [
    {
     "name": "stdout",
     "output_type": "stream",
     "text": [
      "Calculating tax from subtotal...\n"
     ]
    },
    {
     "data": {
      "text/plain": [
       "0.67"
      ]
     },
     "execution_count": 9,
     "metadata": {},
     "output_type": "execute_result"
    }
   ],
   "source": [
    "calculate_tax(4.49)"
   ]
  },
  {
   "cell_type": "code",
   "execution_count": null,
   "metadata": {},
   "outputs": [],
   "source": []
  }
 ],
 "metadata": {
  "kernelspec": {
   "display_name": "venv",
   "language": "python",
   "name": "python3"
  },
  "language_info": {
   "codemirror_mode": {
    "name": "ipython",
    "version": 3
   },
   "file_extension": ".py",
   "mimetype": "text/x-python",
   "name": "python",
   "nbconvert_exporter": "python",
   "pygments_lexer": "ipython3",
   "version": "3.8.0"
  }
 },
 "nbformat": 4,
 "nbformat_minor": 2
}
